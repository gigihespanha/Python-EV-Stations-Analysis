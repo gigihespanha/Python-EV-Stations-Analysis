{
 "cells": [
  {
   "cell_type": "markdown",
   "id": "d3b3c7cb",
   "metadata": {},
   "source": [
    "# Analyze Electric Vehicle Stations in Python\n",
    "\n",
   ]
  },
  {
   "cell_type": "markdown",
   "id": "5b8aa8c8",
   "metadata": {},
   "source": [
    "## Task Group 1 - Import and Explore"
   ]
  },
  {
   "cell_type": "markdown",
   "id": "9110be58",
   "metadata": {},
   "source": [
    "### Task 1\n",
    "\n",
    "Import the CSV file `stations.csv` and assign it to the variable `stations`."
   ]
  },
  {
   "cell_type": "code",
   "execution_count": 1,
   "id": "f64d0f03",
   "metadata": {},
   "outputs": [
    {
     "data": {
      "text/html": [
       "<div>\n",
       "<style scoped>\n",
       "    .dataframe tbody tr th:only-of-type {\n",
       "        vertical-align: middle;\n",
       "    }\n",
       "\n",
       "    .dataframe tbody tr th {\n",
       "        vertical-align: top;\n",
       "    }\n",
       "\n",
       "    .dataframe thead th {\n",
       "        text-align: right;\n",
       "    }\n",
       "</style>\n",
       "<table border=\"1\" class=\"dataframe\">\n",
       "  <thead>\n",
       "    <tr style=\"text-align: right;\">\n",
       "      <th></th>\n",
       "      <th>fuel</th>\n",
       "      <th>state</th>\n",
       "      <th>owner</th>\n",
       "      <th>access</th>\n",
       "      <th>number_of_stations</th>\n",
       "    </tr>\n",
       "  </thead>\n",
       "  <tbody>\n",
       "    <tr>\n",
       "      <th>0</th>\n",
       "      <td>biodiesel</td>\n",
       "      <td>AL</td>\n",
       "      <td>government</td>\n",
       "      <td>private</td>\n",
       "      <td>8</td>\n",
       "    </tr>\n",
       "    <tr>\n",
       "      <th>1</th>\n",
       "      <td>biodiesel</td>\n",
       "      <td>AL</td>\n",
       "      <td>private</td>\n",
       "      <td>public</td>\n",
       "      <td>2</td>\n",
       "    </tr>\n",
       "    <tr>\n",
       "      <th>2</th>\n",
       "      <td>biodiesel</td>\n",
       "      <td>AR</td>\n",
       "      <td>government</td>\n",
       "      <td>private</td>\n",
       "      <td>1</td>\n",
       "    </tr>\n",
       "    <tr>\n",
       "      <th>3</th>\n",
       "      <td>biodiesel</td>\n",
       "      <td>AR</td>\n",
       "      <td>private</td>\n",
       "      <td>public</td>\n",
       "      <td>16</td>\n",
       "    </tr>\n",
       "    <tr>\n",
       "      <th>4</th>\n",
       "      <td>biodiesel</td>\n",
       "      <td>AZ</td>\n",
       "      <td>government</td>\n",
       "      <td>private</td>\n",
       "      <td>74</td>\n",
       "    </tr>\n",
       "  </tbody>\n",
       "</table>\n",
       "</div>"
      ],
      "text/plain": [
       "        fuel state       owner   access  number_of_stations\n",
       "0  biodiesel    AL  government  private                   8\n",
       "1  biodiesel    AL     private   public                   2\n",
       "2  biodiesel    AR  government  private                   1\n",
       "3  biodiesel    AR     private   public                  16\n",
       "4  biodiesel    AZ  government  private                  74"
      ]
     },
     "execution_count": 1,
     "metadata": {},
     "output_type": "execute_result"
    }
   ],
   "source": [
    "import pandas as pd\n",
    "stations = pd.read_csv('stations.csv')\n",
    "\n",
    "\n",
    "# show output\n",
    "stations.head()"
   ]
  },
  {
   "cell_type": "markdown",
   "id": "cb16dbf0",
   "metadata": {},
   "source": [
    "<details>\n",
    "    <summary style=\"display:list-item; font-size:16px; color:blue;\"><i>What is the structure of this dataset? Toggle to check!</i></summary>\n",
    "\n",
    "Each row of the dataset counts the number of stations corresponding to certain categories of fuel, ownership, location, and access.\n",
    "    \n",
    "For example, let's look at the first row. The first row counts the number of\n",
    "    \n",
    "    - biodiesel stations\n",
    "    - in Alabama\n",
    "    - owned by the government\n",
    "    - with restricted/private access\n",
    "\n",
    "The number in the last column tells us there are 8 stations matching these properties!\n",
    "\n",
    "</details>"
   ]
  },
  {
   "cell_type": "markdown",
   "id": "ff1b1167",
   "metadata": {},
   "source": [
    "### Task 2\n",
    "\n",
    "When we start working with a new dataset, it's a good idea to get some summaries of the different columns, so that we know what kinds of values they contain.\n",
    "\n",
    "Call `.value_counts()` on `fuel` to see the different kinds of fuel included in the dataset."
   ]
  },
  {
   "cell_type": "code",
   "execution_count": 2,
   "id": "54123073",
   "metadata": {},
   "outputs": [
    {
     "data": {
      "text/plain": [
       "electric                  260\n",
       "compressed natural gas    210\n",
       "propane                   105\n",
       "ethanol                    97\n",
       "biodiesel                  70\n",
       "liquefied natural gas      50\n",
       "hydrogen                   27\n",
       "Name: fuel, dtype: int64"
      ]
     },
     "execution_count": 2,
     "metadata": {},
     "output_type": "execute_result"
    }
   ],
   "source": [
    "stations['fuel'].value_counts()"
   ]
  },
  {
   "cell_type": "markdown",
   "id": "46770772",
   "metadata": {},
   "source": [
    "### Task 3\n",
    "\n",
    "Call `.value_counts()` on `owner` to see the different kinds of owners included in the dataset."
   ]
  },
  {
   "cell_type": "code",
   "execution_count": 3,
   "id": "cd01dcac",
   "metadata": {},
   "outputs": [
    {
     "data": {
      "text/plain": [
       "private            413\n",
       "government         288\n",
       "utility company    108\n",
       "joint               10\n",
       "Name: owner, dtype: int64"
      ]
     },
     "execution_count": 3,
     "metadata": {},
     "output_type": "execute_result"
    }
   ],
   "source": [
    "stations['owner'].value_counts()"
   ]
  },
  {
   "cell_type": "markdown",
   "id": "31f1c8ec",
   "metadata": {},
   "source": [
    "### Task 4\n",
    "\n",
    "Call `.value_counts()` on `access` to see the different kinds of access included in the dataset."
   ]
  },
  {
   "cell_type": "code",
   "execution_count": 5,
   "id": "0e8c0f73",
   "metadata": {},
   "outputs": [
    {
     "data": {
      "text/plain": [
       "public     415\n",
       "private    404\n",
       "Name: access, dtype: int64"
      ]
     },
     "execution_count": 5,
     "metadata": {},
     "output_type": "execute_result"
    }
   ],
   "source": [
    "stations['access'].value_counts()"
   ]
  },
  {
   "cell_type": "markdown",
   "id": "5d7d74a9",
   "metadata": {},
   "source": [
    "<details>\n",
    "    <summary style=\"display:list-item; font-size:16px; color:blue;\"><i>What did we discover using value counts? Toggle to check!</i></summary>\n",
    "\n",
    "Using `.value_counts()` tells us the different types of stations in the dataset. For example, we now know that there are both public-access and private-access stations in the dataset.\n",
    "    \n",
    "It is important to remember that `.value_counts()` only tells us how many *rows* in the dataset contain a certain value. For example, from Task 4 we know that there are 415 rows in the dataset that contain `public` in the `access` column. This does *not* correspond to 415 stations, since each row can have a large `number_of_stations`.\n",
    "\n",
    "</details>"
   ]
  },
  {
   "cell_type": "markdown",
   "id": "655d3edc",
   "metadata": {},
   "source": [
    "### Task 5\n",
    "\n",
    "Call `.describe()` on `number_of_stations`."
   ]
  },
  {
   "cell_type": "code",
   "execution_count": 6,
   "id": "c392c383",
   "metadata": {},
   "outputs": [
    {
     "data": {
      "text/plain": [
       "count     819.000000\n",
       "mean       34.741148\n",
       "std       118.665095\n",
       "min         1.000000\n",
       "25%         2.000000\n",
       "50%         5.000000\n",
       "75%        20.500000\n",
       "max      2423.000000\n",
       "Name: number_of_stations, dtype: float64"
      ]
     },
     "execution_count": 6,
     "metadata": {},
     "output_type": "execute_result"
    }
   ],
   "source": [
    "stations['number_of_stations'].describe()"
   ]
  },
  {
   "cell_type": "markdown",
   "id": "501000ed",
   "metadata": {},
   "source": [
    "### Task 6\n",
    "\n",
    "There's a pretty large maximum in the output to Task 5. Sort `stations` by `number_of_stations` from largest to smallest. What do the top 5 rows have in common?"
   ]
  },
  {
   "cell_type": "code",
   "execution_count": 7,
   "id": "fe8b0dff",
   "metadata": {},
   "outputs": [
    {
     "data": {
      "text/html": [
       "<div>\n",
       "<style scoped>\n",
       "    .dataframe tbody tr th:only-of-type {\n",
       "        vertical-align: middle;\n",
       "    }\n",
       "\n",
       "    .dataframe tbody tr th {\n",
       "        vertical-align: top;\n",
       "    }\n",
       "\n",
       "    .dataframe thead th {\n",
       "        text-align: right;\n",
       "    }\n",
       "</style>\n",
       "<table border=\"1\" class=\"dataframe\">\n",
       "  <thead>\n",
       "    <tr style=\"text-align: right;\">\n",
       "      <th></th>\n",
       "      <th>fuel</th>\n",
       "      <th>state</th>\n",
       "      <th>owner</th>\n",
       "      <th>access</th>\n",
       "      <th>number_of_stations</th>\n",
       "    </tr>\n",
       "  </thead>\n",
       "  <tbody>\n",
       "    <tr>\n",
       "      <th>301</th>\n",
       "      <td>electric</td>\n",
       "      <td>CA</td>\n",
       "      <td>private</td>\n",
       "      <td>public</td>\n",
       "      <td>2423</td>\n",
       "    </tr>\n",
       "    <tr>\n",
       "      <th>456</th>\n",
       "      <td>electric</td>\n",
       "      <td>NY</td>\n",
       "      <td>private</td>\n",
       "      <td>public</td>\n",
       "      <td>1173</td>\n",
       "    </tr>\n",
       "    <tr>\n",
       "      <th>500</th>\n",
       "      <td>electric</td>\n",
       "      <td>TX</td>\n",
       "      <td>private</td>\n",
       "      <td>public</td>\n",
       "      <td>778</td>\n",
       "    </tr>\n",
       "    <tr>\n",
       "      <th>329</th>\n",
       "      <td>electric</td>\n",
       "      <td>FL</td>\n",
       "      <td>private</td>\n",
       "      <td>public</td>\n",
       "      <td>659</td>\n",
       "    </tr>\n",
       "    <tr>\n",
       "      <th>510</th>\n",
       "      <td>electric</td>\n",
       "      <td>VA</td>\n",
       "      <td>private</td>\n",
       "      <td>public</td>\n",
       "      <td>497</td>\n",
       "    </tr>\n",
       "  </tbody>\n",
       "</table>\n",
       "</div>"
      ],
      "text/plain": [
       "         fuel state    owner  access  number_of_stations\n",
       "301  electric    CA  private  public                2423\n",
       "456  electric    NY  private  public                1173\n",
       "500  electric    TX  private  public                 778\n",
       "329  electric    FL  private  public                 659\n",
       "510  electric    VA  private  public                 497"
      ]
     },
     "execution_count": 7,
     "metadata": {},
     "output_type": "execute_result"
    }
   ],
   "source": [
    "stations = stations.sort_values(by='number_of_stations',ascending=False)\n",
    "stations.head()"
   ]
  },
  {
   "cell_type": "markdown",
   "id": "2ac88d89",
   "metadata": {},
   "source": [
    "### Task 7\n",
    "\n",
    "Sort `stations` by `number_of_stations` from smallest to largest. What do the top 5 rows of the new sorted DataFrame have in common?"
   ]
  },
  {
   "cell_type": "code",
   "execution_count": 8,
   "id": "fd93a428",
   "metadata": {},
   "outputs": [
    {
     "data": {
      "text/html": [
       "<div>\n",
       "<style scoped>\n",
       "    .dataframe tbody tr th:only-of-type {\n",
       "        vertical-align: middle;\n",
       "    }\n",
       "\n",
       "    .dataframe tbody tr th {\n",
       "        vertical-align: top;\n",
       "    }\n",
       "\n",
       "    .dataframe thead th {\n",
       "        text-align: right;\n",
       "    }\n",
       "</style>\n",
       "<table border=\"1\" class=\"dataframe\">\n",
       "  <thead>\n",
       "    <tr style=\"text-align: right;\">\n",
       "      <th></th>\n",
       "      <th>fuel</th>\n",
       "      <th>state</th>\n",
       "      <th>owner</th>\n",
       "      <th>access</th>\n",
       "      <th>number_of_stations</th>\n",
       "    </tr>\n",
       "  </thead>\n",
       "  <tbody>\n",
       "    <tr>\n",
       "      <th>117</th>\n",
       "      <td>compressed natural gas</td>\n",
       "      <td>GA</td>\n",
       "      <td>utility company</td>\n",
       "      <td>public</td>\n",
       "      <td>1</td>\n",
       "    </tr>\n",
       "    <tr>\n",
       "      <th>165</th>\n",
       "      <td>compressed natural gas</td>\n",
       "      <td>MN</td>\n",
       "      <td>government</td>\n",
       "      <td>private</td>\n",
       "      <td>1</td>\n",
       "    </tr>\n",
       "    <tr>\n",
       "      <th>166</th>\n",
       "      <td>compressed natural gas</td>\n",
       "      <td>MN</td>\n",
       "      <td>government</td>\n",
       "      <td>public</td>\n",
       "      <td>1</td>\n",
       "    </tr>\n",
       "    <tr>\n",
       "      <th>169</th>\n",
       "      <td>compressed natural gas</td>\n",
       "      <td>MN</td>\n",
       "      <td>utility company</td>\n",
       "      <td>private</td>\n",
       "      <td>1</td>\n",
       "    </tr>\n",
       "    <tr>\n",
       "      <th>361</th>\n",
       "      <td>electric</td>\n",
       "      <td>IN</td>\n",
       "      <td>utility company</td>\n",
       "      <td>private</td>\n",
       "      <td>1</td>\n",
       "    </tr>\n",
       "  </tbody>\n",
       "</table>\n",
       "</div>"
      ],
      "text/plain": [
       "                       fuel state            owner   access  \\\n",
       "117  compressed natural gas    GA  utility company   public   \n",
       "165  compressed natural gas    MN       government  private   \n",
       "166  compressed natural gas    MN       government   public   \n",
       "169  compressed natural gas    MN  utility company  private   \n",
       "361                electric    IN  utility company  private   \n",
       "\n",
       "     number_of_stations  \n",
       "117                   1  \n",
       "165                   1  \n",
       "166                   1  \n",
       "169                   1  \n",
       "361                   1  "
      ]
     },
     "execution_count": 8,
     "metadata": {},
     "output_type": "execute_result"
    }
   ],
   "source": [
    "stations = stations.sort_values(by='number_of_stations',ascending=True)\n",
    "stations.head()"
   ]
  },
  {
   "cell_type": "markdown",
   "id": "ad058e76",
   "metadata": {},
   "source": [
    "<details>\n",
    "    <summary style=\"display:list-item; font-size:16px; color:blue;\"><i>What did we discover using sorting? Toggle to check!</i></summary>\n",
    "\n",
    "The five largest rows are all public-access, privately-owned, and electric. \n",
    "\n",
    "We can't draw too many conclusions from the five smallest rows, because there may be more than just these five rows with 1 station.\n",
    "\n",
    "</details>"
   ]
  },
  {
   "cell_type": "markdown",
   "id": "915a3e7d",
   "metadata": {},
   "source": [
    "## Task Group 2 - Public Access Electric Charging"
   ]
  },
  {
   "cell_type": "markdown",
   "id": "c9363658",
   "metadata": {},
   "source": [
    "## Task 8\n",
    "\n",
    "Electric vehicles have become more and more crucial to plans around climate change. Let's take a closer look at stations that anyone can access.\n",
    "\n",
    "Create a Boolean mask that is `True` for any row of `stations` where `access` is public."
   ]
  },
  {
   "cell_type": "code",
   "execution_count": 10,
   "id": "580615a9",
   "metadata": {},
   "outputs": [],
   "source": [
    "is_public_access = stations['access'] == 'public'"
   ]
  },
  {
   "cell_type": "markdown",
   "id": "a1bcdaa7",
   "metadata": {},
   "source": [
    "### Task 9\n",
    "\n",
    "Create a Boolean mask that is `True` for any row of `stations` where `fuel` is electric."
   ]
  },
  {
   "cell_type": "code",
   "execution_count": 11,
   "id": "b92be568",
   "metadata": {},
   "outputs": [],
   "source": [
    "is_electric = stations['fuel'] == 'electric'"
   ]
  },
  {
   "cell_type": "markdown",
   "id": "8eba9134",
   "metadata": {},
   "source": [
    "### Task 10\n",
    "\n",
    "Use the Boolean masks from Tasks 8 and 9 to filter `stations` down to only rows that are both public-access and electric-fuel. Assign the result to the variable `public_electric`."
   ]
  },
  {
   "cell_type": "code",
   "execution_count": 12,
   "id": "a33012da",
   "metadata": {},
   "outputs": [],
   "source": [
    "public_electric = stations[is_public_access & is_electric]"
   ]
  },
  {
   "cell_type": "markdown",
   "id": "3dfd1fb6",
   "metadata": {},
   "source": [
    "### Task 11\n",
    "\n",
    "Sort `public_electric` by `number_of_stations` from smallest to largest. Display the top 5 rows (corresponding to the smallest numbers of stations.)"
   ]
  },
  {
   "cell_type": "code",
   "execution_count": 13,
   "id": "81a4c07c",
   "metadata": {},
   "outputs": [
    {
     "data": {
      "text/html": [
       "<div>\n",
       "<style scoped>\n",
       "    .dataframe tbody tr th:only-of-type {\n",
       "        vertical-align: middle;\n",
       "    }\n",
       "\n",
       "    .dataframe tbody tr th {\n",
       "        vertical-align: top;\n",
       "    }\n",
       "\n",
       "    .dataframe thead th {\n",
       "        text-align: right;\n",
       "    }\n",
       "</style>\n",
       "<table border=\"1\" class=\"dataframe\">\n",
       "  <thead>\n",
       "    <tr style=\"text-align: right;\">\n",
       "      <th></th>\n",
       "      <th>fuel</th>\n",
       "      <th>state</th>\n",
       "      <th>owner</th>\n",
       "      <th>access</th>\n",
       "      <th>number_of_stations</th>\n",
       "    </tr>\n",
       "  </thead>\n",
       "  <tbody>\n",
       "    <tr>\n",
       "      <th>479</th>\n",
       "      <td>electric</td>\n",
       "      <td>RI</td>\n",
       "      <td>government</td>\n",
       "      <td>public</td>\n",
       "      <td>1</td>\n",
       "    </tr>\n",
       "    <tr>\n",
       "      <th>293</th>\n",
       "      <td>electric</td>\n",
       "      <td>AR</td>\n",
       "      <td>utility company</td>\n",
       "      <td>public</td>\n",
       "      <td>1</td>\n",
       "    </tr>\n",
       "    <tr>\n",
       "      <th>454</th>\n",
       "      <td>electric</td>\n",
       "      <td>NY</td>\n",
       "      <td>joint</td>\n",
       "      <td>public</td>\n",
       "      <td>1</td>\n",
       "    </tr>\n",
       "    <tr>\n",
       "      <th>451</th>\n",
       "      <td>electric</td>\n",
       "      <td>NV</td>\n",
       "      <td>utility company</td>\n",
       "      <td>public</td>\n",
       "      <td>1</td>\n",
       "    </tr>\n",
       "    <tr>\n",
       "      <th>403</th>\n",
       "      <td>electric</td>\n",
       "      <td>MN</td>\n",
       "      <td>utility company</td>\n",
       "      <td>public</td>\n",
       "      <td>1</td>\n",
       "    </tr>\n",
       "  </tbody>\n",
       "</table>\n",
       "</div>"
      ],
      "text/plain": [
       "         fuel state            owner  access  number_of_stations\n",
       "479  electric    RI       government  public                   1\n",
       "293  electric    AR  utility company  public                   1\n",
       "454  electric    NY            joint  public                   1\n",
       "451  electric    NV  utility company  public                   1\n",
       "403  electric    MN  utility company  public                   1"
      ]
     },
     "execution_count": 13,
     "metadata": {},
     "output_type": "execute_result"
    }
   ],
   "source": [
    "public_electric = public_electric.sort_values(by='number_of_stations')\n",
    "public_electric.head()"
   ]
  },
  {
   "cell_type": "markdown",
   "id": "2fa14ff8",
   "metadata": {},
   "source": [
    "### Task 12\n",
    "\n",
    "While we can't be sure that this trend continues, it certainly looks as if publicly-owned (government/utility) stations are less common than privately owned (which we saw in Task 6).\n",
    "\n",
    "Let's compare privately- and publicly-owned stations. Create a Boolean mask that is `True` for each row of `public_electric` where `owner` is private."
   ]
  },
  {
   "cell_type": "code",
   "execution_count": 14,
   "id": "ba369890",
   "metadata": {},
   "outputs": [],
   "source": [
    "is_privately_owned = public_electric['owner'] == 'private'\n"
   ]
  },
  {
   "cell_type": "markdown",
   "id": "243d36b8",
   "metadata": {},
   "source": [
    "### Task 13\n",
    "\n",
    "Use the Boolean mask from Task 12 to filter `public_electric` down to only privately-owned rows. Assign the result to the variable `privately_owned`."
   ]
  },
  {
   "cell_type": "code",
   "execution_count": 15,
   "id": "019be205",
   "metadata": {},
   "outputs": [
    {
     "data": {
      "text/html": [
       "<div>\n",
       "<style scoped>\n",
       "    .dataframe tbody tr th:only-of-type {\n",
       "        vertical-align: middle;\n",
       "    }\n",
       "\n",
       "    .dataframe tbody tr th {\n",
       "        vertical-align: top;\n",
       "    }\n",
       "\n",
       "    .dataframe thead th {\n",
       "        text-align: right;\n",
       "    }\n",
       "</style>\n",
       "<table border=\"1\" class=\"dataframe\">\n",
       "  <thead>\n",
       "    <tr style=\"text-align: right;\">\n",
       "      <th></th>\n",
       "      <th>fuel</th>\n",
       "      <th>state</th>\n",
       "      <th>owner</th>\n",
       "      <th>access</th>\n",
       "      <th>number_of_stations</th>\n",
       "    </tr>\n",
       "  </thead>\n",
       "  <tbody>\n",
       "    <tr>\n",
       "      <th>430</th>\n",
       "      <td>electric</td>\n",
       "      <td>NE</td>\n",
       "      <td>private</td>\n",
       "      <td>public</td>\n",
       "      <td>26</td>\n",
       "    </tr>\n",
       "    <tr>\n",
       "      <th>325</th>\n",
       "      <td>electric</td>\n",
       "      <td>DE</td>\n",
       "      <td>private</td>\n",
       "      <td>public</td>\n",
       "      <td>30</td>\n",
       "    </tr>\n",
       "    <tr>\n",
       "      <th>539</th>\n",
       "      <td>electric</td>\n",
       "      <td>WY</td>\n",
       "      <td>private</td>\n",
       "      <td>public</td>\n",
       "      <td>34</td>\n",
       "    </tr>\n",
       "    <tr>\n",
       "      <th>491</th>\n",
       "      <td>electric</td>\n",
       "      <td>SD</td>\n",
       "      <td>private</td>\n",
       "      <td>public</td>\n",
       "      <td>37</td>\n",
       "    </tr>\n",
       "    <tr>\n",
       "      <th>282</th>\n",
       "      <td>electric</td>\n",
       "      <td>AK</td>\n",
       "      <td>private</td>\n",
       "      <td>public</td>\n",
       "      <td>37</td>\n",
       "    </tr>\n",
       "  </tbody>\n",
       "</table>\n",
       "</div>"
      ],
      "text/plain": [
       "         fuel state    owner  access  number_of_stations\n",
       "430  electric    NE  private  public                  26\n",
       "325  electric    DE  private  public                  30\n",
       "539  electric    WY  private  public                  34\n",
       "491  electric    SD  private  public                  37\n",
       "282  electric    AK  private  public                  37"
      ]
     },
     "execution_count": 15,
     "metadata": {},
     "output_type": "execute_result"
    }
   ],
   "source": [
    "privately_owned = public_electric[is_privately_owned]\n",
    "privately_owned.head()"
   ]
  },
  {
   "cell_type": "markdown",
   "id": "3cefc577",
   "metadata": {},
   "source": [
    "### Task 14\n",
    "\n",
    "Let's check how many states have privately-owned, publicly-accessible electric charging stations. Call `.describe()` on the `state` column of `privately_owned`."
   ]
  },
  {
   "cell_type": "code",
   "execution_count": 16,
   "id": "9419e685",
   "metadata": {},
   "outputs": [
    {
     "data": {
      "text/plain": [
       "count     51\n",
       "unique    51\n",
       "top       NE\n",
       "freq       1\n",
       "Name: state, dtype: object"
      ]
     },
     "execution_count": 16,
     "metadata": {},
     "output_type": "execute_result"
    }
   ],
   "source": [
    "privately_owned['state'].describe()"
   ]
  },
  {
   "cell_type": "markdown",
   "id": "66cc7830",
   "metadata": {},
   "source": [
    "<details>\n",
    "    <summary style=\"display:list-item; font-size:16px; color:blue;\"><i>What did we discover in Task 14? Toggle to check!</i></summary>\n",
    "\n",
    "There are 51 unique values in the `privately_owned` state column. So it looks like all 50 states and (likely) the District of Columbia have at least one privately-owned, publicly-accessible electric charging station. \n",
    "    \n",
    "We can't be 100% sure without actually looking at the data: it is possible that one state abbreviation got misspelled, producing a count of 51 distinct entries without actually having 51 distinct entries. But this is good initial evidence!\n",
    "</details>"
   ]
  },
  {
   "cell_type": "markdown",
   "id": "14168bea",
   "metadata": {},
   "source": [
    "### Task 15\n",
    "\n",
    "Let's compare this to the publicly-owned stations. Use the Boolean mask you created in Task 12 to filter `public_electric` down to only rows with *non*-private ownership. Assign the result to the variable `not_privately_owned`."
   ]
  },
  {
   "cell_type": "code",
   "execution_count": 17,
   "id": "554dd225",
   "metadata": {},
   "outputs": [
    {
     "data": {
      "text/html": [
       "<div>\n",
       "<style scoped>\n",
       "    .dataframe tbody tr th:only-of-type {\n",
       "        vertical-align: middle;\n",
       "    }\n",
       "\n",
       "    .dataframe tbody tr th {\n",
       "        vertical-align: top;\n",
       "    }\n",
       "\n",
       "    .dataframe thead th {\n",
       "        text-align: right;\n",
       "    }\n",
       "</style>\n",
       "<table border=\"1\" class=\"dataframe\">\n",
       "  <thead>\n",
       "    <tr style=\"text-align: right;\">\n",
       "      <th></th>\n",
       "      <th>fuel</th>\n",
       "      <th>state</th>\n",
       "      <th>owner</th>\n",
       "      <th>access</th>\n",
       "      <th>number_of_stations</th>\n",
       "    </tr>\n",
       "  </thead>\n",
       "  <tbody>\n",
       "    <tr>\n",
       "      <th>479</th>\n",
       "      <td>electric</td>\n",
       "      <td>RI</td>\n",
       "      <td>government</td>\n",
       "      <td>public</td>\n",
       "      <td>1</td>\n",
       "    </tr>\n",
       "    <tr>\n",
       "      <th>293</th>\n",
       "      <td>electric</td>\n",
       "      <td>AR</td>\n",
       "      <td>utility company</td>\n",
       "      <td>public</td>\n",
       "      <td>1</td>\n",
       "    </tr>\n",
       "    <tr>\n",
       "      <th>454</th>\n",
       "      <td>electric</td>\n",
       "      <td>NY</td>\n",
       "      <td>joint</td>\n",
       "      <td>public</td>\n",
       "      <td>1</td>\n",
       "    </tr>\n",
       "    <tr>\n",
       "      <th>451</th>\n",
       "      <td>electric</td>\n",
       "      <td>NV</td>\n",
       "      <td>utility company</td>\n",
       "      <td>public</td>\n",
       "      <td>1</td>\n",
       "    </tr>\n",
       "    <tr>\n",
       "      <th>403</th>\n",
       "      <td>electric</td>\n",
       "      <td>MN</td>\n",
       "      <td>utility company</td>\n",
       "      <td>public</td>\n",
       "      <td>1</td>\n",
       "    </tr>\n",
       "  </tbody>\n",
       "</table>\n",
       "</div>"
      ],
      "text/plain": [
       "         fuel state            owner  access  number_of_stations\n",
       "479  electric    RI       government  public                   1\n",
       "293  electric    AR  utility company  public                   1\n",
       "454  electric    NY            joint  public                   1\n",
       "451  electric    NV  utility company  public                   1\n",
       "403  electric    MN  utility company  public                   1"
      ]
     },
     "execution_count": 17,
     "metadata": {},
     "output_type": "execute_result"
    }
   ],
   "source": [
    "not_privately_owned = public_electric[~is_privately_owned]\n",
    "not_privately_owned.head()"
   ]
  },
  {
   "cell_type": "markdown",
   "id": "b81bbbf8",
   "metadata": {},
   "source": [
    "### Task 16\n",
    "\n",
    "Let's check how many states have publicly-owned, publicly-accessible electric charging stations. Call `.describe()` on the `state` column of `not_privately_owned`."
   ]
  },
  {
   "cell_type": "code",
   "execution_count": 18,
   "id": "c7dfac4f",
   "metadata": {},
   "outputs": [
    {
     "data": {
      "text/plain": [
       "count     83\n",
       "unique    49\n",
       "top       NC\n",
       "freq       3\n",
       "Name: state, dtype: object"
      ]
     },
     "execution_count": 18,
     "metadata": {},
     "output_type": "execute_result"
    }
   ],
   "source": [
    "not_privately_owned['state'].describe()"
   ]
  },
  {
   "cell_type": "markdown",
   "id": "35027731",
   "metadata": {},
   "source": [
    "<details>\n",
    "    <summary style=\"display:list-item; font-size:16px; color:blue;\"><i>What did we discover in Task 16? Toggle to check!</i></summary>\n",
    "\n",
    "There are only 49 unique entries, so it is likely that there are two states (possibly one state and the District of Columbia) that have *zero* publicly-owned and publicly-accessible electric charging stations.\n",
    "\n",
    "</details>"
   ]
  },
  {
   "cell_type": "markdown",
   "id": "243fe3e3",
   "metadata": {},
   "source": [
    "### Task 17\n",
    "\n",
    "Let's investigate publicly-owned stations a bit further. Call `.describe()` on the `number_of_stations` column of `not_privately_owned`."
   ]
  },
  {
   "cell_type": "code",
   "execution_count": 19,
   "id": "f1cd0490",
   "metadata": {},
   "outputs": [
    {
     "data": {
      "text/plain": [
       "count     83.000000\n",
       "mean      17.927711\n",
       "std       44.294409\n",
       "min        1.000000\n",
       "25%        1.000000\n",
       "50%        6.000000\n",
       "75%       17.000000\n",
       "max      361.000000\n",
       "Name: number_of_stations, dtype: float64"
      ]
     },
     "execution_count": 19,
     "metadata": {},
     "output_type": "execute_result"
    }
   ],
   "source": [
    "not_privately_owned['number_of_stations'].describe()"
   ]
  },
  {
   "cell_type": "markdown",
   "id": "8c997732",
   "metadata": {},
   "source": [
    "### Task 18\n",
    "\n",
    "The maximum number of stations is quite a bit larger than the 75th percentile. Let's look at the rows between these values. \n",
    "\n",
    "Create a Boolean mask that is true in each row of `not_privately_owned` where the `number_of_stations` is bigger than 17 (the 75th percentile)."
   ]
  },
  {
   "cell_type": "code",
   "execution_count": null,
   "id": "ecb8a65c",
   "metadata": {},
   "outputs": [],
   "source": [
    "gt_17 = not_privately_owned['number_of_stations'] > 17\n"
   ]
  },
  {
   "cell_type": "markdown",
   "id": "b2c80d4d",
   "metadata": {},
   "source": [
    "### Task 19\n",
    "\n",
    "Filter `not_privately_owned` down to only rows with `number_of_stations` bigger than 17. Assign the result to the variable `above_17`."
   ]
  },
  {
   "cell_type": "code",
   "execution_count": null,
   "id": "c9069b01",
   "metadata": {},
   "outputs": [],
   "source": [
    "above_17 = not_privately_owned[gt_17]\n",
    "above_17.head()"
   ]
  },
  {
   "cell_type": "markdown",
   "id": "aa735511",
   "metadata": {},
   "source": [
    "### Task 20\n",
    "\n",
    "Sort `above_17` by `number_of_stations` and output the entirety of the result."
   ]
  },
  {
   "cell_type": "code",
   "execution_count": null,
   "id": "ac57d229",
   "metadata": {},
   "outputs": [],
   "source": [
    "above_17.sort_values(by=['number_of_stations'],ascending=False)"
   ]
  },
  {
   "cell_type": "markdown",
   "id": "b70fc9ee",
   "metadata": {},
   "source": [
    "<details>\n",
    "    <summary style=\"display:list-item; font-size:16px; color:blue;\"><i>What did we discover in Task 20? Toggle to check!</i></summary>\n",
    "\n",
    "There's no immediately obvious geographic pattern, though it is interesting that California has both the most government-owned and the most utility-owned stations. However, we'd have to compare against population to see if that's just a factor of California's size.\n",
    "    \n",
    "Combining datasets (like `stations` with a population dataset) is beyond the scope of this project -- but is a powerful feature of pandas that you'll learn if you keep going!\n",
    "\n",
    "</details>"
   ]
  },
  {
   "cell_type": "markdown",
   "id": "431f3f7f",
   "metadata": {},
   "source": [
    "## Task Group 3 - West Coast"
   ]
  },
  {
   "cell_type": "markdown",
   "id": "412e7a49",
   "metadata": {},
   "source": [
    "### Task 21\n",
    "\n",
    "In Task 20 we found that `CA` has \n",
    "1. the largest number of government-owned public-access electric stations\n",
    "2. the largest number of utility-owned public-access electric stations\n",
    "\n",
    "In Task 6, the full sorted DataFrame shows that `CA` also has the most privately-owned public-access electric stations. \n",
    "\n",
    "What about the rest of the west coast?\n",
    "\n",
    "Create two Boolean masks:\n",
    "- the first should be `True` whenever the `state` column of `public_electric` is `WA` (Washington)\n",
    "- the second should be `True` whenever the `state` column of `public_electric` is `OR` (Oregon)"
   ]
  },
  {
   "cell_type": "code",
   "execution_count": null,
   "id": "db343a41",
   "metadata": {},
   "outputs": [],
   "source": [
    "is_wa = public_electric['state'] == 'WA'\n",
    "is_or = public_electric['state'] == 'OR'"
   ]
  },
  {
   "cell_type": "markdown",
   "id": "8fde48e9",
   "metadata": {},
   "source": [
    "### Task 22\n",
    "\n",
    "Filter `public_electric` down to only those rows where `state` is either `WA` or `OR`. Assign the result to the variable `WA_or_OR`."
   ]
  },
  {
   "cell_type": "code",
   "execution_count": null,
   "id": "50a96756",
   "metadata": {},
   "outputs": [],
   "source": [
    "WA_or_OR = public_electric[ is_wa | is_or]"
   ]
  },
  {
   "cell_type": "markdown",
   "id": "863525b0",
   "metadata": {},
   "source": [
    "### Task 23\n",
    "\n",
    "Sort `WA_or_OR` first by `owner` and then, within each `owner`, by `number_of_stations`. Display the full output."
   ]
  },
  {
   "cell_type": "code",
   "execution_count": null,
   "id": "13cf4ff6",
   "metadata": {},
   "outputs": [],
   "source": [
    "WA_or_OR.sort_values(by=['owner','number_of_stations'],ascending=False)"
   ]
  },
  {
   "cell_type": "markdown",
   "id": "4c28cdbf",
   "metadata": {},
   "source": [
    "<details>\n",
    "    <summary style=\"display:list-item; font-size:16px; color:blue;\"><i>What did we discover in Task 23? Toggle to check!</i></summary>\n",
    "\n",
    "Both WA and OR have significantly more privately-owned stations than publicly-owned (among publicly-accessible stations.) At the time this project was created, the population of WA was about double the population of OR (slightly below, in fact). Do you think the proportions of stations make sense?\n",
    "\n",
    "</details>"
   ]
  },
  {
   "cell_type": "markdown",
   "id": "98164f76",
   "metadata": {},
   "source": [
    "That's the end of the project, but you can always add more cells below to explore the dataset further!"
   ]
  },
  {
   "cell_type": "code",
   "execution_count": null,
   "id": "a5697f43",
   "metadata": {},
   "outputs": [],
   "source": []
  }
 ],
 "metadata": {
  "kernelspec": {
   "display_name": "Python 3 (ipykernel)",
   "language": "python",
   "name": "python3"
  },
  "language_info": {
   "codemirror_mode": {
    "name": "ipython",
    "version": 3
   },
   "file_extension": ".py",
   "mimetype": "text/x-python",
   "name": "python",
   "nbconvert_exporter": "python",
   "pygments_lexer": "ipython3",
   "version": "3.8.10"
  }
 },
 "nbformat": 4,
 "nbformat_minor": 5
}
